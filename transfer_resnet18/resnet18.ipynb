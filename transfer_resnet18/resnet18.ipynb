{
 "cells": [
  {
   "cell_type": "code",
   "execution_count": 1,
   "metadata": {},
   "outputs": [],
   "source": [
    "from __future__ import print_function, division\n",
    "\n",
    "import torch\n",
    "import torch.nn as nn\n",
    "import torch.nn.functional as F\n",
    "import torch.optim as optim\n",
    "from torch.optim import lr_scheduler\n",
    "import torchvision\n",
    "from torchvision import datasets, models, transforms\n",
    "import copy\n",
    "\n",
    "device = torch.device('cuda:0' if torch.cuda.is_available() else 'cpu')"
   ]
  },
  {
   "cell_type": "markdown",
   "metadata": {},
   "source": [
    "## 加载数据"
   ]
  },
  {
   "cell_type": "code",
   "execution_count": 6,
   "metadata": {},
   "outputs": [
    {
     "name": "stdout",
     "output_type": "stream",
     "text": [
      "3692\n",
      "{'negative': 0, 'positive': 1}\n",
      "Dataset ImageFolder\n",
      "    Number of datapoints: 3692\n",
      "    Root Location: data\n",
      "    Transforms (if any): Compose(\n",
      "                             RandomHorizontalFlip(p=0.5)\n",
      "                             ToTensor()\n",
      "                         )\n",
      "    Target Transforms (if any): None\n"
     ]
    }
   ],
   "source": [
    "# 数据处理、增强\n",
    "data_transform = transforms.Compose([\n",
    "    transforms.RandomHorizontalFlip(),\n",
    "    transforms.ToTensor()\n",
    "])\n",
    "\n",
    "ct_dataset = datasets.ImageFolder(root=r'data', transform=data_transform)\n",
    "\n",
    "data_loader = torch.utils.data.DataLoader(ct_dataset, batch_size=8, shuffle=True, num_workers=0)\n",
    "\n",
    "data_size = len(ct_dataset)\n",
    "\n",
    "images, classes = ct_dataset[1]\n",
    "print(len(ct_dataset))\n",
    "print(ct_dataset.class_to_idx)\n",
    "print(ct_dataset)"
   ]
  },
  {
   "cell_type": "markdown",
   "metadata": {},
   "source": [
    "## 定义网络\n",
    "删除resnet18的平均池化层和全连接层，换成自己的"
   ]
  },
  {
   "cell_type": "code",
   "execution_count": 3,
   "metadata": {},
   "outputs": [],
   "source": [
    "class Net(nn.Module):\n",
    "    def __init__(self , model):\n",
    "        super(Net, self).__init__()\n",
    "        \n",
    "        # 不更新预训练模型的梯度\n",
    "        for param in model.parameters():\n",
    "            param.requires_grad = False\n",
    "            \n",
    "        #摘掉model的后两层\n",
    "        self.resnet_layer = nn.Sequential(*list(model.children())[:-2])\n",
    "        # 添加的网络层\n",
    "        self.finetune_layer = nn.Sequential(\n",
    "            nn.MaxPool2d(2, 2),\n",
    "            nn.Conv2d(512, 512, kernel_size=3, stride=1, padding=1, bias=True ),\n",
    "            nn.BatchNorm2d(512),\n",
    "            nn.ReLU(inplace=True),\n",
    "            nn.AdaptiveAvgPool2d(output_size=(1, 1)),\n",
    "        )\n",
    "        \n",
    "        self.fc = nn.Linear(512, 2)\n",
    "        \n",
    "        \n",
    "    def forward(self, x):\n",
    "        x = self.resnet_layer(x)\n",
    "        x = self.finetune_layer(x)\n",
    "        x = x.view(x.size(0), -1)\n",
    "        x = self.fc(x)\n",
    "        return x"
   ]
  },
  {
   "cell_type": "markdown",
   "metadata": {},
   "source": [
    "# 定义训练函数"
   ]
  },
  {
   "cell_type": "code",
   "execution_count": 4,
   "metadata": {},
   "outputs": [],
   "source": [
    "def train_model(model, criterion, optimizer, scheduler, num_epochs=25):\n",
    "    \n",
    "    for epoch in range(num_epochs):\n",
    "        print('-*-' * 20)\n",
    "        print('epoch {}/{}'.format(epoch, num_epochs - 1))\n",
    "        \n",
    "        scheduler.step() # Decays the learning rate \n",
    "        model.train() # Set model to training mode\n",
    "        \n",
    "        running_loss = 0.0\n",
    "        running_corrects = 0\n",
    "        \n",
    "        # Iterate over data.\n",
    "        for inputs, labels in data_loader:\n",
    "            inputs = inputs.to(device)\n",
    "            labels = labels.to(device)\n",
    "            \n",
    "            # zero the parameter gradients\n",
    "            optimizer.zero_grad()\n",
    "            \n",
    "            with torch.set_grad_enabled(True):\n",
    "                outputs = model(inputs)\n",
    "                _, preds = torch.max(outputs, 1) # torch.max返回的格式时(value, index)\n",
    "                # print(labels, preds)\n",
    "                loss = criterion(outputs, preds)\n",
    "            \n",
    "                loss.backward()\n",
    "                optimizer.step()\n",
    "        \n",
    "            running_loss += loss.item() * inputs.size(0)\n",
    "            running_corrects += torch.sum(preds==labels.data)\n",
    "        \n",
    "        epoch_loss = running_loss / data_size\n",
    "        epoch_acc = running_corrects.double() / data_size\n",
    "        \n",
    "        print('Train Loss: {:.4f} Acc: {:.4f}'.format(epoch_loss, epoch_acc))\n",
    "    \n",
    "    return model"
   ]
  },
  {
   "cell_type": "markdown",
   "metadata": {},
   "source": [
    "# Finetuning the convnet"
   ]
  },
  {
   "cell_type": "code",
   "execution_count": null,
   "metadata": {},
   "outputs": [
    {
     "name": "stdout",
     "output_type": "stream",
     "text": [
      "-*--*--*--*--*--*--*--*--*--*--*--*--*--*--*--*--*--*--*--*-\n",
      "epoch 0/24\n",
      "Train Loss: 0.0595 Acc: 0.4848\n",
      "-*--*--*--*--*--*--*--*--*--*--*--*--*--*--*--*--*--*--*--*-\n",
      "epoch 1/24\n",
      "Train Loss: 0.0294 Acc: 0.5133\n",
      "-*--*--*--*--*--*--*--*--*--*--*--*--*--*--*--*--*--*--*--*-\n",
      "epoch 2/24\n",
      "Train Loss: 0.0233 Acc: 0.5336\n",
      "-*--*--*--*--*--*--*--*--*--*--*--*--*--*--*--*--*--*--*--*-\n",
      "epoch 3/24\n",
      "Train Loss: 0.0175 Acc: 0.4978\n",
      "-*--*--*--*--*--*--*--*--*--*--*--*--*--*--*--*--*--*--*--*-\n",
      "epoch 4/24\n",
      "Train Loss: 0.0170 Acc: 0.4355\n",
      "-*--*--*--*--*--*--*--*--*--*--*--*--*--*--*--*--*--*--*--*-\n",
      "epoch 5/24\n",
      "Train Loss: 0.0133 Acc: 0.4079\n",
      "-*--*--*--*--*--*--*--*--*--*--*--*--*--*--*--*--*--*--*--*-\n",
      "epoch 6/24\n",
      "Train Loss: 0.0068 Acc: 0.2998\n",
      "-*--*--*--*--*--*--*--*--*--*--*--*--*--*--*--*--*--*--*--*-\n",
      "epoch 7/24\n",
      "Train Loss: 0.0002 Acc: 0.2698\n",
      "-*--*--*--*--*--*--*--*--*--*--*--*--*--*--*--*--*--*--*--*-\n",
      "epoch 8/24\n",
      "Train Loss: 0.0001 Acc: 0.2698\n",
      "-*--*--*--*--*--*--*--*--*--*--*--*--*--*--*--*--*--*--*--*-\n",
      "epoch 9/24\n",
      "Train Loss: 0.0001 Acc: 0.2698\n",
      "-*--*--*--*--*--*--*--*--*--*--*--*--*--*--*--*--*--*--*--*-\n",
      "epoch 10/24\n",
      "Train Loss: 0.0001 Acc: 0.2698\n",
      "-*--*--*--*--*--*--*--*--*--*--*--*--*--*--*--*--*--*--*--*-\n",
      "epoch 11/24\n",
      "Train Loss: 0.0001 Acc: 0.2698\n",
      "-*--*--*--*--*--*--*--*--*--*--*--*--*--*--*--*--*--*--*--*-\n",
      "epoch 12/24\n",
      "Train Loss: 0.0001 Acc: 0.2698\n",
      "-*--*--*--*--*--*--*--*--*--*--*--*--*--*--*--*--*--*--*--*-\n",
      "epoch 13/24\n"
     ]
    }
   ],
   "source": [
    "model_pre = models.resnet18(pretrained=True)\n",
    "model_pre.load_state_dict(torch.load('resnet18-5c106cde.pth')) # 加载预训练好的模型\n",
    "model_conv = Net(model_pre)\n",
    "\n",
    "model_conv = model_conv.to(device)\n",
    "\n",
    "criterion = nn.CrossEntropyLoss()\n",
    "\n",
    "optimizer_conv = optim.SGD(model_conv.parameters(), lr=0.01, momentum=0.9)\n",
    "\n",
    "# Decay LR by a factor of 0.1 every 7 epochs\n",
    "exp_lr_scheduler = lr_scheduler.StepLR(optimizer_conv, step_size=7, gamma=0.1)\n",
    "\n",
    "model_pre = train_model(model_conv, criterion, optimizer_conv, exp_lr_scheduler, num_epochs=25)"
   ]
  }
 ],
 "metadata": {
  "kernelspec": {
   "display_name": "Pytorch",
   "language": "python",
   "name": "pytorch"
  },
  "language_info": {
   "codemirror_mode": {
    "name": "ipython",
    "version": 3
   },
   "file_extension": ".py",
   "mimetype": "text/x-python",
   "name": "python",
   "nbconvert_exporter": "python",
   "pygments_lexer": "ipython3",
   "version": "3.6.8"
  }
 },
 "nbformat": 4,
 "nbformat_minor": 2
}
